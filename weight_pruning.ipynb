{
  "nbformat": 4,
  "nbformat_minor": 0,
  "metadata": {
    "colab": {
      "name": "Untitled0.ipynb",
      "version": "0.3.2",
      "provenance": [],
      "include_colab_link": true
    },
    "kernelspec": {
      "name": "python3",
      "display_name": "Python 3"
    }
  },
  "cells": [
    {
      "cell_type": "markdown",
      "metadata": {
        "id": "view-in-github",
        "colab_type": "text"
      },
      "source": [
        "<a href=\"https://colab.research.google.com/github/Snehal-Reddy/NeuralNetPruning/blob/master/weight_pruning.ipynb\" target=\"_parent\"><img src=\"https://colab.research.google.com/assets/colab-badge.svg\" alt=\"Open In Colab\"/></a>"
      ]
    },
    {
      "metadata": {
        "id": "pjvzFrTQqV1H",
        "colab_type": "code",
        "colab": {}
      },
      "cell_type": "code",
      "source": [
        "import numpy as np\n",
        "import tensorflow as tf\n",
        "import matplotlib.pyplot as plt"
      ],
      "execution_count": 0,
      "outputs": []
    },
    {
      "metadata": {
        "id": "VRQ_VYR0rA_R",
        "colab_type": "code",
        "colab": {
          "base_uri": "https://localhost:8080/",
          "height": 52
        },
        "outputId": "3495503e-64fb-494e-ef78-fe53109e60d1"
      },
      "cell_type": "code",
      "source": [
        "mnist = tf.keras.datasets.mnist\n",
        "(X_train, y_train), (X_test, y_test) = mnist.load_data()"
      ],
      "execution_count": 4,
      "outputs": [
        {
          "output_type": "stream",
          "text": [
            "Downloading data from https://storage.googleapis.com/tensorflow/tf-keras-datasets/mnist.npz\n",
            "11493376/11490434 [==============================] - 0s 0us/step\n"
          ],
          "name": "stdout"
        }
      ]
    },
    {
      "metadata": {
        "id": "vdPxsuP_rknL",
        "colab_type": "code",
        "colab": {}
      },
      "cell_type": "code",
      "source": [
        "naive_model = tf.keras.Sequential([tf.keras.layers.Flatten(input_shape=(28, 28)),\n",
        "                                   tf.keras.layers.Dense(1000, activation=tf.nn.relu, use_bias=False),\n",
        "                                   tf.keras.layers.Dense(1000, activation=tf.nn.relu, use_bias=False),\n",
        "                                   tf.keras.layers.Dense(500, activation=tf.nn.relu, use_bias=False),\n",
        "                                   tf.keras.layers.Dense(200, activation=tf.nn.relu, use_bias=False),\n",
        "                                   tf.keras.layers.Dense(10, use_bias=False)\n",
        "                                 ])"
      ],
      "execution_count": 0,
      "outputs": []
    },
    {
      "metadata": {
        "id": "DYmaWKSzvltB",
        "colab_type": "code",
        "colab": {}
      },
      "cell_type": "code",
      "source": [
        "epoch_loss_avg = tf.contrib.eager.metrics.Mean()\n",
        "epoch_accuracy = tf.contrib.eager.metrics.Accuracy()\n",
        "for x, y in dataset:\n",
        "    outputs = naive_model(x)\n",
        "    loss = tf.losses.softmax_cross_entropy(tf.one_hot(y, 10), outputs)\n",
        "    epoch_loss_avg(loss)\n",
        "    epoch_accuracy(tf.argmax(outputs, axis=1, output_type=tf.int64), y)\n",
        "return epoch_loss_avg.result().numpy(), epoch_accuracy.result().numpy()\n"
      ],
      "execution_count": 0,
      "outputs": []
    }
  ]
}